{
 "cells": [
  {
   "cell_type": "code",
   "execution_count": 1,
   "metadata": {},
   "outputs": [
    {
     "name": "stdout",
     "output_type": "stream",
     "text": [
      "Xếp chồng theo chiều dọc (vertical):\n",
      "0    0\n",
      "1    1\n",
      "2    2\n",
      "3    3\n",
      "4    4\n",
      "5    a\n",
      "6    b\n",
      "7    c\n",
      "8    d\n",
      "9    e\n",
      "dtype: object\n"
     ]
    }
   ],
   "source": [
    "import pandas as pd\n",
    "\n",
    "# Tạo Series\n",
    "ser1 = pd.Series(range(5))  # ser1 chứa các giá trị từ 0 đến 4\n",
    "ser2 = pd.Series(list('abcde'))  # ser2 chứa các ký tự từ 'a' đến 'e'\n",
    "\n",
    "# Xếp chồng theo chiều dọc (vertical stacking)\n",
    "df_vertical = pd.concat([ser1, ser2], axis=0, ignore_index=True)\n",
    "\n",
    "# In DataFrame kết quả\n",
    "print(\"Xếp chồng theo chiều dọc (vertical):\")\n",
    "print(df_vertical)\n"
   ]
  },
  {
   "cell_type": "code",
   "execution_count": 2,
   "metadata": {},
   "outputs": [
    {
     "name": "stdout",
     "output_type": "stream",
     "text": [
      "\n",
      "Xếp chồng theo chiều ngang (horizontal):\n",
      "   Numbers Letters\n",
      "0        0       a\n",
      "1        1       b\n",
      "2        2       c\n",
      "3        3       d\n",
      "4        4       e\n"
     ]
    }
   ],
   "source": [
    "# Xếp chồng theo chiều ngang (horizontal stacking)\n",
    "df_horizontal = pd.concat([ser1, ser2], axis=1)\n",
    "\n",
    "# Đặt tên cho các cột\n",
    "df_horizontal.columns = ['Numbers', 'Letters']\n",
    "\n",
    "# In DataFrame kết quả\n",
    "print(\"\\nXếp chồng theo chiều ngang (horizontal):\")\n",
    "print(df_horizontal)\n"
   ]
  }
 ],
 "metadata": {
  "kernelspec": {
   "display_name": "Python 3",
   "language": "python",
   "name": "python3"
  },
  "language_info": {
   "codemirror_mode": {
    "name": "ipython",
    "version": 3
   },
   "file_extension": ".py",
   "mimetype": "text/x-python",
   "name": "python",
   "nbconvert_exporter": "python",
   "pygments_lexer": "ipython3",
   "version": "3.12.0"
  }
 },
 "nbformat": 4,
 "nbformat_minor": 2
}
