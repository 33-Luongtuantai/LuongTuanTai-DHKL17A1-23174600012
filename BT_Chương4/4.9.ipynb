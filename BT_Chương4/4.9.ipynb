{
 "cells": [
  {
   "cell_type": "code",
   "execution_count": 1,
   "metadata": {},
   "outputs": [
    {
     "name": "stdout",
     "output_type": "stream",
     "text": [
      "   0  1  2  3  4\n",
      "0  2  3  3  1  2\n",
      "1  6  9  3  7  4\n",
      "2  3  5  2  6  4\n",
      "3  2  6  5  8  8\n",
      "4  9  7  3  1  8\n",
      "5  5  5  3  3  4\n",
      "6  3  3  1  9  6\n"
     ]
    }
   ],
   "source": [
    "import pandas as pd\n",
    "import numpy as np\n",
    "\n",
    "# Tạo Series ser\n",
    "ser = pd.Series(np.random.randint(1, 10, 35))\n",
    "\n",
    "# Chuyển đổi Series thành DataFrame với 7 hàng và 5 cột\n",
    "df = pd.DataFrame(ser.values.reshape(7, 5))\n",
    "\n",
    "# In kết quả\n",
    "print(df)\n"
   ]
  }
 ],
 "metadata": {
  "kernelspec": {
   "display_name": "Python 3",
   "language": "python",
   "name": "python3"
  },
  "language_info": {
   "codemirror_mode": {
    "name": "ipython",
    "version": 3
   },
   "file_extension": ".py",
   "mimetype": "text/x-python",
   "name": "python",
   "nbconvert_exporter": "python",
   "pygments_lexer": "ipython3",
   "version": "3.12.0"
  }
 },
 "nbformat": 4,
 "nbformat_minor": 2
}
