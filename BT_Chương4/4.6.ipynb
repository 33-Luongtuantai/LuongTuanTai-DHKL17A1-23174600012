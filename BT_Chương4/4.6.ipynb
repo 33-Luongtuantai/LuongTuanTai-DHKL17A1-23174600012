{
 "cells": [
  {
   "cell_type": "code",
   "execution_count": 1,
   "metadata": {},
   "outputs": [
    {
     "name": "stdout",
     "output_type": "stream",
     "text": [
      "e    7\n",
      "b    5\n",
      "c    5\n",
      "a    4\n",
      "h    4\n",
      "f    3\n",
      "d    1\n",
      "g    1\n",
      "Name: count, dtype: int64\n"
     ]
    }
   ],
   "source": [
    "import pandas as pd\n",
    "import numpy as np\n",
    "\n",
    "# Tạo Series ser\n",
    "ser = pd.Series(np.take(list('abcdefgh'), np.random.randint(8, size=30)))\n",
    "\n",
    "# Tính số lần xuất hiện của mỗi giá trị duy nhất\n",
    "value_counts = ser.value_counts()\n",
    "\n",
    "# In kết quả\n",
    "print(value_counts)"
   ]
  },
  {
   "cell_type": "markdown",
   "metadata": {},
   "source": [
    "                         GIẢI THÍCH ĐOẠN CODE\n",
    "                         "
   ]
  },
  {
   "cell_type": "markdown",
   "metadata": {},
   "source": [
    "1. list('abcdefgh')\n",
    "Tạo một danh sách các ký tự từ 'a' đến 'h'. Đây là một danh sách chứa các phần tử: ['a', 'b', 'c', 'd', 'e', 'f', 'g', 'h'].\n",
    "\n",
    "2. np.random.randint(8, size=30):\n",
    "np.random.randint(8) tạo ra một mảng chứa các số nguyên ngẫu nhiên trong khoảng từ 0 đến 7 (chỉ có các số từ 0 đến 7, vì giá trị lớn nhất có thể là 8 và np.random.randint() không bao gồm giá trị lớn nhất).\n",
    "size=30 chỉ định rằng mảng này sẽ có 30 phần tử.\n",
    "Kết quả là một mảng chứa 30 số nguyên ngẫu nhiên trong khoảng từ 0 đến 7.\n",
    "\n",
    "3. np.take(list('abcdefgh'), np.random.randint(8, size=30)):\n",
    "Hàm np.take() chọn các phần tử trong danh sách 'abcdefgh' (danh sách với các phần tử từ a đến h) dựa trên chỉ mục (index) được cung cấp.\n",
    "Số nguyên trong mảng được tạo ra bởi np.random.randint(8, size=30) sẽ được sử dụng làm chỉ mục để lấy các phần tử tương ứng từ list('abcdefgh').\n",
    "Kết quả là một mảng chứa 30 ký tự được chọn ngẫu nhiên từ danh sách ['a', 'b', 'c', 'd', 'e', 'f', 'g', 'h'].\n",
    "\n",
    "4. pd.Series(...):\n",
    "Cuối cùng, np.take() tạo ra một mảng chứa các ký tự được chọn ngẫu nhiên. Mảng này được chuyển thành một Series của pandas với 30 phần tử.\n"
   ]
  }
 ],
 "metadata": {
  "kernelspec": {
   "display_name": "Python 3",
   "language": "python",
   "name": "python3"
  },
  "language_info": {
   "codemirror_mode": {
    "name": "ipython",
    "version": 3
   },
   "file_extension": ".py",
   "mimetype": "text/x-python",
   "name": "python",
   "nbconvert_exporter": "python",
   "pygments_lexer": "ipython3",
   "version": "3.12.0"
  }
 },
 "nbformat": 4,
 "nbformat_minor": 2
}
