{
 "cells": [
  {
   "cell_type": "code",
   "execution_count": 1,
   "metadata": {},
   "outputs": [
    {
     "name": "stdout",
     "output_type": "stream",
     "text": [
      "Sai số bình phương trung bình (MSE): 0.274621531035682\n"
     ]
    }
   ],
   "source": [
    "import pandas as pd\n",
    "import numpy as np\n",
    "\n",
    "# Tạo dữ liệu\n",
    "truth = pd.Series(range(10))  # Chuỗi truth là các số nguyên từ 0 đến 9\n",
    "pred = pd.Series(range(10)) + np.random.random(10)  # Chuỗi pred có các giá trị ngẫu nhiên gần với chuỗi truth\n",
    "\n",
    "# Tính Sai số bình phương trung bình (MSE)\n",
    "mse = ((truth - pred) ** 2).mean()\n",
    "\n",
    "# In kết quả\n",
    "print(\"Sai số bình phương trung bình (MSE):\", mse)\n"
   ]
  }
 ],
 "metadata": {
  "kernelspec": {
   "display_name": "Python 3",
   "language": "python",
   "name": "python3"
  },
  "language_info": {
   "codemirror_mode": {
    "name": "ipython",
    "version": 3
   },
   "file_extension": ".py",
   "mimetype": "text/x-python",
   "name": "python",
   "nbconvert_exporter": "python",
   "pygments_lexer": "ipython3",
   "version": "3.12.0"
  }
 },
 "nbformat": 4,
 "nbformat_minor": 2
}
