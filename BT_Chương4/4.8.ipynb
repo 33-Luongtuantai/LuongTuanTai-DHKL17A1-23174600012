{
 "cells": [
  {
   "cell_type": "code",
   "execution_count": 1,
   "metadata": {},
   "outputs": [
    {
     "name": "stdout",
     "output_type": "stream",
     "text": [
      "Series gốc:\n",
      "0     0.705826\n",
      "1     0.160597\n",
      "2     0.505396\n",
      "3     0.166791\n",
      "4     0.568194\n",
      "5     0.068279\n",
      "6     0.618958\n",
      "7     0.579688\n",
      "8     0.841381\n",
      "9     0.500517\n",
      "10    0.095013\n",
      "11    0.255374\n",
      "12    0.569875\n",
      "13    0.313864\n",
      "14    0.600729\n",
      "15    0.503636\n",
      "16    0.445017\n",
      "17    0.273468\n",
      "18    0.164062\n",
      "19    0.190369\n",
      "dtype: float64\n",
      "\n",
      "Series sau khi thay thế bằng tên phân vị:\n",
      "0     Decile 10\n",
      "1      Decile 2\n",
      "2      Decile 7\n",
      "3      Decile 3\n",
      "4      Decile 7\n",
      "5      Decile 1\n",
      "6      Decile 9\n",
      "7      Decile 8\n",
      "8     Decile 10\n",
      "9      Decile 6\n",
      "10     Decile 1\n",
      "11     Decile 4\n",
      "12     Decile 8\n",
      "13     Decile 5\n",
      "14     Decile 9\n",
      "15     Decile 6\n",
      "16     Decile 5\n",
      "17     Decile 4\n",
      "18     Decile 2\n",
      "19     Decile 3\n",
      "dtype: category\n",
      "Categories (10, object): ['Decile 1' < 'Decile 2' < 'Decile 3' < 'Decile 4' ... 'Decile 7' < 'Decile 8' < 'Decile 9' < 'Decile 10']\n"
     ]
    }
   ],
   "source": [
    "import pandas as pd\n",
    "import numpy as np\n",
    "\n",
    "# Tạo Series ngẫu nhiên với 20 phần tử\n",
    "ser = pd.Series(np.random.random(20))\n",
    "\n",
    "# Chia Series thành 10 phân vị bằng nhau (deciles)\n",
    "deciles = pd.qcut(ser, 10, labels=[f'Decile {i+1}' for i in range(10)])\n",
    "\n",
    "# Thay thế các giá trị trong ser bằng tên của phân vị tương ứng\n",
    "ser_with_deciles = pd.Series(deciles)\n",
    "\n",
    "# In kết quả\n",
    "print(\"Series gốc:\")\n",
    "print(ser)\n",
    "print(\"\\nSeries sau khi thay thế bằng tên phân vị:\")\n",
    "print(ser_with_deciles)\n"
   ]
  }
 ],
 "metadata": {
  "kernelspec": {
   "display_name": "Python 3",
   "language": "python",
   "name": "python3"
  },
  "language_info": {
   "codemirror_mode": {
    "name": "ipython",
    "version": 3
   },
   "file_extension": ".py",
   "mimetype": "text/x-python",
   "name": "python",
   "nbconvert_exporter": "python",
   "pygments_lexer": "ipython3",
   "version": "3.12.0"
  }
 },
 "nbformat": 4,
 "nbformat_minor": 2
}
