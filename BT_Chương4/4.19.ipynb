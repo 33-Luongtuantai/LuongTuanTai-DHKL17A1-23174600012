{
 "cells": [
  {
   "cell_type": "code",
   "execution_count": 1,
   "metadata": {},
   "outputs": [],
   "source": [
    "import pandas as pd\n",
    "import numpy as np"
   ]
  },
  {
   "cell_type": "code",
   "execution_count": 2,
   "metadata": {},
   "outputs": [
    {
     "name": "stdout",
     "output_type": "stream",
     "text": [
      "[1.0, 2.0, 3.0, 4.0, 5.0, 6.0, 7.0, 8.0, 9.0, 10.0]\n",
      "['apple', 'carrot', 'banana', 'banana', 'banana', 'apple', 'apple', 'banana', 'apple', 'apple']\n"
     ]
    }
   ],
   "source": [
    "fruit = pd.Series (np.random.choice (['apple','banana','carrot'], 10))\n",
    "weights = pd.Series (np.linspace (1, 10, 10))\n",
    "print(weights.tolist())\n",
    "print(fruit.tolist())"
   ]
  },
  {
   "cell_type": "code",
   "execution_count": 3,
   "metadata": {},
   "outputs": [
    {
     "name": "stdout",
     "output_type": "stream",
     "text": [
      "fruit\n",
      "apple     4.5\n",
      "banana    5.0\n",
      "carrot    6.5\n",
      "Name: weight, dtype: float64\n"
     ]
    }
   ],
   "source": [
    "# Tạo dữ liệu\n",
    "fruit = pd.Series(np.random.choice(['apple', 'banana', 'carrot'], 10))\n",
    "weights = pd.Series(np.linspace(1, 10, 10))\n",
    "\n",
    "# Kết hợp dữ liệu lại với nhau thành DataFrame\n",
    "df = pd.DataFrame({'fruit': fruit, 'weight': weights})\n",
    "\n",
    "# Tính khối lượng trung bình của từng loại quả\n",
    "average_weights = df.groupby('fruit')['weight'].mean()\n",
    "\n",
    "# In kết quả\n",
    "print(average_weights)\n"
   ]
  }
 ],
 "metadata": {
  "kernelspec": {
   "display_name": "Python 3",
   "language": "python",
   "name": "python3"
  },
  "language_info": {
   "codemirror_mode": {
    "name": "ipython",
    "version": 3
   },
   "file_extension": ".py",
   "mimetype": "text/x-python",
   "name": "python",
   "nbconvert_exporter": "python",
   "pygments_lexer": "ipython3",
   "version": "3.12.0"
  }
 },
 "nbformat": 4,
 "nbformat_minor": 2
}
