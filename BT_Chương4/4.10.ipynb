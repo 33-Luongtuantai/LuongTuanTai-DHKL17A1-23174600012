{
 "cells": [
  {
   "cell_type": "code",
   "execution_count": 1,
   "metadata": {},
   "outputs": [
    {
     "name": "stdout",
     "output_type": "stream",
     "text": [
      "Series:\n",
      "0    9\n",
      "1    4\n",
      "2    7\n",
      "3    4\n",
      "4    4\n",
      "5    3\n",
      "6    9\n",
      "dtype: int32\n",
      "\n",
      "Vị trí của các phần tử là bội của 3:\n",
      "Index([0, 5, 6], dtype='int64')\n"
     ]
    }
   ],
   "source": [
    "import pandas as pd\n",
    "import numpy as np\n",
    "\n",
    "# Tạo Series ngẫu nhiên với 7 phần tử\n",
    "ser = pd.Series(np.random.randint(1, 10, 7))\n",
    "\n",
    "# Tìm các phần tử là bội của 3\n",
    "divisible_by_3 = ser[ser % 3 == 0]\n",
    "\n",
    "# Lấy vị trí của các phần tử là bội của 3\n",
    "positions = divisible_by_3.index\n",
    "\n",
    "# In kết quả\n",
    "print(\"Series:\")\n",
    "print(ser)\n",
    "print(\"\\nVị trí của các phần tử là bội của 3:\")\n",
    "print(positions)\n"
   ]
  }
 ],
 "metadata": {
  "kernelspec": {
   "display_name": "Python 3",
   "language": "python",
   "name": "python3"
  },
  "language_info": {
   "codemirror_mode": {
    "name": "ipython",
    "version": 3
   },
   "file_extension": ".py",
   "mimetype": "text/x-python",
   "name": "python",
   "nbconvert_exporter": "python",
   "pygments_lexer": "ipython3",
   "version": "3.12.0"
  }
 },
 "nbformat": 4,
 "nbformat_minor": 2
}
