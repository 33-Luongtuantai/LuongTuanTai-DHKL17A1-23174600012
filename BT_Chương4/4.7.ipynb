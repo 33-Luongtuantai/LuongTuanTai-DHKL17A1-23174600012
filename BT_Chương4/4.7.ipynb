{
 "cells": [
  {
   "cell_type": "code",
   "execution_count": 1,
   "metadata": {},
   "outputs": [
    {
     "name": "stdout",
     "output_type": "stream",
     "text": [
      "Series gốc:\n",
      "0     1\n",
      "1     4\n",
      "2     4\n",
      "3     4\n",
      "4     3\n",
      "5     4\n",
      "6     2\n",
      "7     1\n",
      "8     3\n",
      "9     3\n",
      "10    3\n",
      "11    1\n",
      "dtype: int32\n",
      "\n",
      "Series sau khi thay thế:\n",
      "0     Other\n",
      "1         4\n",
      "2         4\n",
      "3         4\n",
      "4         3\n",
      "5         4\n",
      "6     Other\n",
      "7     Other\n",
      "8         3\n",
      "9         3\n",
      "10        3\n",
      "11    Other\n",
      "dtype: object\n"
     ]
    }
   ],
   "source": [
    "import pandas as pd\n",
    "import numpy as np\n",
    "\n",
    "# Thiết lập RandomState để đảm bảo tính ngẫu nhiên ổn định\n",
    "np.random.RandomState(100)\n",
    "\n",
    "# Tạo Series ngẫu nhiên\n",
    "ser = pd.Series(np.random.randint(1, 5, 12))\n",
    "\n",
    "# Tính tần suất của các giá trị trong ser\n",
    "value_counts = ser.value_counts()\n",
    "\n",
    "# Lấy 2 phần tử có tần suất cao nhất\n",
    "top_2 = value_counts.nlargest(2).index\n",
    "\n",
    "# Thay thế các phần tử còn lại bằng 'Other'\n",
    "ser_modified = ser.apply(lambda x: x if x in top_2 else 'Other')\n",
    "\n",
    "# In kết quả\n",
    "print(\"Series gốc:\")\n",
    "print(ser)\n",
    "print(\"\\nSeries sau khi thay thế:\")\n",
    "print(ser_modified)\n"
   ]
  }
 ],
 "metadata": {
  "kernelspec": {
   "display_name": "Python 3",
   "language": "python",
   "name": "python3"
  },
  "language_info": {
   "codemirror_mode": {
    "name": "ipython",
    "version": 3
   },
   "file_extension": ".py",
   "mimetype": "text/x-python",
   "name": "python",
   "nbconvert_exporter": "python",
   "pygments_lexer": "ipython3",
   "version": "3.12.0"
  }
 },
 "nbformat": 4,
 "nbformat_minor": 2
}
