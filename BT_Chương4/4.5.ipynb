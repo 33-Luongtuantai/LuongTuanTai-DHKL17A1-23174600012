{
 "cells": [
  {
   "cell_type": "code",
   "execution_count": 1,
   "metadata": {},
   "outputs": [],
   "source": [
    "import pandas as pd\n",
    "import numpy as np\n",
    "\n",
    "# Tạo một Series với phân phối chuẩn (normal distribution)\n",
    "ser = pd.Series(np.random.normal(10, 5, 25))\n"
   ]
  },
  {
   "cell_type": "code",
   "execution_count": 2,
   "metadata": {},
   "outputs": [
    {
     "name": "stdout",
     "output_type": "stream",
     "text": [
      "Giá trị tối thiểu: -3.15082504694859\n"
     ]
    }
   ],
   "source": [
    "# Tính giá trị tối thiểu\n",
    "min_value = ser.min()\n",
    "print(f\"Giá trị tối thiểu: {min_value}\")"
   ]
  },
  {
   "cell_type": "code",
   "execution_count": 3,
   "metadata": {},
   "outputs": [
    {
     "name": "stdout",
     "output_type": "stream",
     "text": [
      "Phần centile thứ 25: 6.2184780619697975\n"
     ]
    }
   ],
   "source": [
    "# Tính phần centile thứ 25\n",
    "percentile_25 = ser.quantile(0.25)\n",
    "print(f\"Phần centile thứ 25: {percentile_25}\")\n"
   ]
  },
  {
   "cell_type": "code",
   "execution_count": 4,
   "metadata": {},
   "outputs": [
    {
     "name": "stdout",
     "output_type": "stream",
     "text": [
      "Trung vị: 9.002308998627454\n"
     ]
    }
   ],
   "source": [
    "# Tính trung vị\n",
    "median_value = ser.median()\n",
    "print(f\"Trung vị: {median_value}\")\n"
   ]
  },
  {
   "cell_type": "code",
   "execution_count": 5,
   "metadata": {},
   "outputs": [
    {
     "name": "stdout",
     "output_type": "stream",
     "text": [
      "Phần centile thứ 75: 11.898159961376653\n"
     ]
    }
   ],
   "source": [
    "# Tính phần centile thứ 75\n",
    "percentile_75 = ser.quantile(0.75)\n",
    "print(f\"Phần centile thứ 75: {percentile_75}\")\n"
   ]
  },
  {
   "cell_type": "code",
   "execution_count": 6,
   "metadata": {},
   "outputs": [
    {
     "name": "stdout",
     "output_type": "stream",
     "text": [
      "Giá trị tối đa: 18.431826158375586\n"
     ]
    }
   ],
   "source": [
    "# Tính giá trị tối đa\n",
    "max_value = ser.max()\n",
    "print(f\"Giá trị tối đa: {max_value}\")\n"
   ]
  }
 ],
 "metadata": {
  "kernelspec": {
   "display_name": "Python 3",
   "language": "python",
   "name": "python3"
  },
  "language_info": {
   "codemirror_mode": {
    "name": "ipython",
    "version": 3
   },
   "file_extension": ".py",
   "mimetype": "text/x-python",
   "name": "python",
   "nbconvert_exporter": "python",
   "pygments_lexer": "ipython3",
   "version": "3.12.0"
  }
 },
 "nbformat": 4,
 "nbformat_minor": 2
}
